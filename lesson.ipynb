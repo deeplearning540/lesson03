{
 "cells": [
  {
   "cell_type": "markdown",
   "metadata": {
    "collapsed": false
   },
   "source": [
    "# Lesson 03: From Clustering To Classification"
   ]
  },
  {
   "cell_type": "markdown",
   "metadata": {
    "collapsed": false
   },
   "source": [
    "## k-nearest neighbor clustering\n",
    "Recap the kmeans clustering result:\n",
    "![by Weston.pace, from commons.wikimedia.org under CC-BY-SA 3.0](https://upload.wikimedia.org/wikipedia/commons/thumb/d/d2/K_Means_Example_Step_4.svg/278px-K_Means_Example_Step_4.svg.png)\n",
    "\n",
    "- in this case, we have $k=3$ clusters and hence have produced a dataset of form  \n",
    "$ \\mathcal{D}_{k=3} = \\{ \\langle \\vec{x}_{1}, f(\\vec{x}_{1}) \\rangle, \\dots \\} $ \n",
    "  + where $f$ denotes a class label of a cluster, e.g. if $\\vec{x}_{1}$ belongs to cluster $2$, then $f(\\vec{x}_{1}) = 2$\n",
    "  + in other words $f(\\vec{x}_{1})$ represents the mathematical mapping that our `kmeans` applies to our dataset\n",
    "  "
   ]
  },
  {
   "cell_type": "markdown",
   "metadata": {
    "collapsed": false
   },
   "source": [
    "## going for classification\n",
    "\n",
    "- to use this for classification, we want to start from a fully labelled dataset\n",
    "- given an unseen query point $\\vec{x}_{q}$, we would like to know what cluster it belongs to\n",
    "\n",
    "![by Sebastian Raschka, Stat 451: intro to ML](https://github.com/deeplearning540/lesson03/blob/main/images/raschka_knn_p28.png)\n"
   ]
  },
  {
   "cell_type": "markdown",
   "metadata": {
    "collapsed": false
   },
   "source": [
    "- there are multiple options how to decide to which class the query point belongs to\n",
    "![by Sebastian Raschka, Stat 451: intro to ML](https://github.com/deeplearning540/lesson03/blob/main/images/raschka_knn_p29.png)\n",
    "\n",
    "- **note** that the choice of $k$ determines the radius in this image above, here $k=5$ was set\n"
   ]
  },
  {
   "cell_type": "markdown",
   "metadata": {
    "collapsed": false
   },
   "source": [
    "- the plurality vote is mathematically known as the **mode** of a distribution of discrete numbers, i.e. the category with highest frequency wins\n",
    "\n",
    "![by Sebastian Raschka, Stat 451: intro to ML](https://github.com/deeplearning540/lesson03/blob/main/images/raschka_knn_p30.png)\n",
    "\n",
    "- important: what hyper parameters govern the decision boundary?\n",
    "  + the choice of distance metric, e.g. euclidean distance\n",
    "  + the number of neighbors to consider, i.e. $k$\n",
    "  "
   ]
  },
  {
   "cell_type": "markdown",
   "metadata": {
    "collapsed": false
   },
   "source": [
    "# Using kNN classification\n"
   ]
  },
  {
   "cell_type": "markdown",
   "metadata": {
    "collapsed": false
   },
   "source": [
    "## Data\n",
    "\n",
    "For the following, I will rely (again) on the Palmer penguin dataset obtained from [this repo](https://github.com/allisonhorst/palmerpenguins). To quote the repo:\n",
    "\n",
    "> Data were collected and made available by [Dr. Kristen Gorman](https://www.uaf.edu/cfos/people/faculty/detail/kristen-gorman.php)\n",
    "> and the [Palmer Station, Antarctica LTER](https://pal.lternet.edu/), a member of the [Long Term Ecological Research Network](https://lternet.edu/).\n"
   ]
  },
  {
   "cell_type": "code",
   "execution_count": 2,
   "metadata": {
    "collapsed": false
   },
   "outputs": [
    {
     "name": "stdout",
     "output_type": "stream",
     "text": [
      "pandas version: 1.0.5\n"
     ]
    }
   ],
   "source": [
    "import pandas as pd\n",
    "print(\"pandas version:\", pd.__version__)\n"
   ]
  },
  {
   "cell_type": "code",
   "execution_count": 3,
   "metadata": {
    "collapsed": false
   },
   "outputs": [
    {
     "name": "stdout",
     "output_type": "stream",
     "text": [
      "  species     island  bill_length_mm  bill_depth_mm  flipper_length_mm  \\\n",
      "0  Adelie  Torgersen            39.1           18.7              181.0   \n",
      "1  Adelie  Torgersen            39.5           17.4              186.0   \n",
      "2  Adelie  Torgersen            40.3           18.0              195.0   \n",
      "4  Adelie  Torgersen            36.7           19.3              193.0   \n",
      "5  Adelie  Torgersen            39.3           20.6              190.0   \n",
      "\n",
      "   body_mass_g     sex  year species_  \n",
      "0       3750.0    male  2007   Adelie  \n",
      "1       3800.0  female  2007   Adelie  \n",
      "2       3250.0  female  2007   Adelie  \n",
      "4       3450.0  female  2007   Adelie  \n",
      "5       3650.0    male  2007   Adelie  \n"
     ]
    }
   ],
   "source": [
    "df = pd.read_csv(\"https://raw.githubusercontent.com/allisonhorst/palmerpenguins/master/inst/extdata/penguins.csv\")\n",
    "#let's remove the rows with NaN values\n",
    "df = df[ df.bill_length_mm.notnull() ]\n",
    "\n",
    "#convert species column to \n",
    "df[[\"species_\"]] = df[[\"species\"]].astype(\"category\")\n",
    "\n",
    "print(df.head())\n"
   ]
  },
  {
   "cell_type": "code",
   "execution_count": 4,
   "metadata": {
    "collapsed": false
   },
   "outputs": [
    {
     "name": "stdout",
     "output_type": "stream",
     "text": [
      "species_ encoding:\n",
      "0 : Adelie\n",
      "1 : Chinstrap\n",
      "2 : Gentoo\n"
     ]
    }
   ],
   "source": [
    "print(\"species_ encoding:\")\n",
    "print(\"\\n\".join([ str(item)+\" : \"+df.species_.cat.categories[item] for item in range(len(df.species_.cat.categories)) ]))"
   ]
  },
  {
   "cell_type": "code",
   "execution_count": null,
   "metadata": {
    "collapsed": false
   },
   "outputs": [],
   "source": []
  },
  {
   "cell_type": "code",
   "execution_count": null,
   "metadata": {
    "collapsed": false
   },
   "outputs": [],
   "source": []
  },
  {
   "cell_type": "code",
   "execution_count": null,
   "metadata": {
    "collapsed": false
   },
   "outputs": [],
   "source": []
  },
  {
   "cell_type": "markdown",
   "metadata": {
    "collapsed": false
   },
   "source": [
    "# Further Reading\n",
    "\n",
    "- some parts of this material were inspired by [Sebastian Raschka](https://sebastianraschka.com)\n",
    "  + confusion matrix [lesson 12.1](https://www.youtube.com/watch?v=07dtryhNGms)\n",
    "  + precision, recall and F1 score [lesson 12.2](https://youtu.be/yEw9oDdJkT0)\n",
    "  \n",
    "- a generally good resource \n",
    "  + [Confusion_matrix](https://en.wikipedia.org/wiki/Confusion_matrix)\n",
    "  + [precision and recall](https://en.wikipedia.org/wiki/Precision_and_recall)\n",
    "  \n",
    "- all of the above is nicely implemented and [documented](https://scikit-learn.org/stable/modules/model_evaluation.html#classification-metrics)"
   ]
  }
 ],
 "metadata": {
  "kernelspec": {
   "argv": [
    "python",
    "-m",
    "ipykernel_launcher",
    "-f",
    "{connection_file}"
   ],
   "display_name": "Python 3",
   "env": null,
   "interrupt_mode": "signal",
   "language": "python",
   "metadata": null,
   "name": "python3"
  },
  "name": "lesson.ipynb"
 },
 "nbformat": 4,
 "nbformat_minor": 4
}
